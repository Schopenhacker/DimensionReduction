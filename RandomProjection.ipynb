{
 "cells": [
  {
   "cell_type": "code",
   "execution_count": 11,
   "metadata": {
    "collapsed": true
   },
   "outputs": [],
   "source": [
    "import os\n",
    "import numpy as np\n",
    "import pandas as pd\n",
    "#Viz\n",
    "%matplotlib inline\n",
    "import matplotlib\n",
    "import matplotlib.pyplot as plt\n",
    "\n",
    "from sklearn.random_projection import SparseRandomProjection\n",
    "from sklearn.svm import LinearSVC\n",
    "from sklearn import metrics\n",
    "# to make this notebook's output stable across runs\n",
    "np.random.seed(42)"
   ]
  },
  {
   "cell_type": "markdown",
   "metadata": {},
   "source": [
    "### MNIST:\n",
    "\n",
    "C'est le **Hello World** du machine learning"
   ]
  },
  {
   "cell_type": "code",
   "execution_count": 5,
   "metadata": {},
   "outputs": [
    {
     "data": {
      "text/plain": [
       "{'COL_NAMES': ['label', 'data'],\n",
       " 'DESCR': 'mldata.org dataset: mnist-original',\n",
       " 'data': array([[0, 0, 0, ..., 0, 0, 0],\n",
       "        [0, 0, 0, ..., 0, 0, 0],\n",
       "        [0, 0, 0, ..., 0, 0, 0],\n",
       "        ...,\n",
       "        [0, 0, 0, ..., 0, 0, 0],\n",
       "        [0, 0, 0, ..., 0, 0, 0],\n",
       "        [0, 0, 0, ..., 0, 0, 0]], dtype=uint8),\n",
       " 'target': array([0., 0., 0., ..., 9., 9., 9.])}"
      ]
     },
     "execution_count": 5,
     "metadata": {},
     "output_type": "execute_result"
    }
   ],
   "source": [
    "from sklearn.datasets import fetch_mldata\n",
    "mnist=fetch_mldata('MNIST original')\n",
    "mnist"
   ]
  },
  {
   "cell_type": "code",
   "execution_count": 6,
   "metadata": {},
   "outputs": [
    {
     "name": "stdout",
     "output_type": "stream",
     "text": [
      "(70000, 784)\n",
      "(70000,)\n"
     ]
    }
   ],
   "source": [
    "X, y = mnist['data'], mnist['target']\n",
    "print(X.shape)\n",
    "print(y.shape)"
   ]
  },
  {
   "cell_type": "markdown",
   "metadata": {},
   "source": [
    "Les données MNIST sont déja partagés entre un jeu d'entrainement (les 60000 premiers) et de test(les 10000 restants)"
   ]
  },
  {
   "cell_type": "code",
   "execution_count": 7,
   "metadata": {},
   "outputs": [
    {
     "data": {
      "text/plain": [
       "28.0"
      ]
     },
     "execution_count": 7,
     "metadata": {},
     "output_type": "execute_result"
    }
   ],
   "source": [
    "from math import sqrt\n",
    "sqrt(784)"
   ]
  },
  {
   "cell_type": "markdown",
   "metadata": {},
   "source": [
    "Chaque image fait 28x28 pixels. L’objectif est de prédire le chiffre que chaque image contient.\n",
    "Nous traiterons chaque image (de dimension 28x28) comme un vecteur de caractéristiques aplati de longueur 784"
   ]
  },
  {
   "cell_type": "code",
   "execution_count": 8,
   "metadata": {
    "collapsed": true
   },
   "outputs": [],
   "source": [
    "X_train, X_test = X[:60000], X[60000:]\n",
    "y_train, y_test = y[:60000], y[60000:]"
   ]
  },
  {
   "cell_type": "markdown",
   "metadata": {},
   "source": [
    "Les manuscrits correspondants aux chiffres sont rangés dans l'ordre, il vaut mieux melanger les données du jeu d'entrainement pr les raisons suivantes:\n",
    "* Assurer de l'hemoginiété au cours de la validations (s'assurer à chaque passe qu'il ne manques pas qqes chiffres)\n",
    "* Certains algorithmes de ML sont sensibles à l'ordre des observations d'entrainement"
   ]
  },
  {
   "cell_type": "code",
   "execution_count": 9,
   "metadata": {
    "collapsed": true
   },
   "outputs": [],
   "source": [
    "# set X_train indexes : [0-len(X_train)-1]\n",
    "l = np.arange(len(X_train))\n",
    "#randomly shuffle X_train indexes\n",
    "np.random.shuffle(l)\n",
    "#shuffle X_train and y_train entries\n",
    "X_train, y_train = X_train[l], y_train[l]"
   ]
  },
  {
   "cell_type": "markdown",
   "metadata": {},
   "source": [
    "### Classificateur SVM:\n",
    "On va effectuer un SVM linéraire et le faire entrainer sur le jeu d'entraiment, ensuite on va le tester sur le jeu de test et calculer la précision sans appliquer aucune réduction"
   ]
  },
  {
   "cell_type": "code",
   "execution_count": 12,
   "metadata": {},
   "outputs": [
    {
     "data": {
      "text/plain": [
       "0.8198"
      ]
     },
     "execution_count": 12,
     "metadata": {},
     "output_type": "execute_result"
    }
   ],
   "source": [
    "#SVM CLassifier\n",
    "model = LinearSVC()\n",
    "#entrainer le modele\n",
    "model.fit(X_train, y_train)\n",
    "# calculer la précision de base a partir du jeu de test\n",
    "baseline_accuracy = metrics.accuracy_score(model.predict(X_test), y_test)\n",
    "baseline_accuracy"
   ]
  },
  {
   "cell_type": "code",
   "execution_count": 22,
   "metadata": {
    "collapsed": true
   },
   "outputs": [],
   "source": [
    "\n",
    "# on va effectuer 5 projection \n",
    "projection_sizes = np.int32(np.linspace(20, 784, 5))\n",
    "#pour chaque random projection on va calculer la précision du modèle suite à la réduction\n",
    "accuracies=[]\n",
    "\n",
    "# iterer sur les projection sizes\n",
    "for size in projection_sizes:\n",
    "    #creer une random projection de taille 'size'\n",
    "    rp = SparseRandomProjection(n_components = size)\n",
    "    #appliquer la projection sur le jeu d'entrainement \n",
    "    X = rp.fit_transform(X_train)\n",
    " \n",
    "    # entrainer un classificateur svm sur le jeu d'entrainement réduit\n",
    "    model = LinearSVC()\n",
    "    model.fit(X, y_train)\n",
    " \n",
    "    #appliquer la projection sur le jeu de test \n",
    "    test = rp.transform(X_test)\n",
    "    # evaluer le modele sur le jeu de test reduit et mettre à jour la liste 'accuracies'\n",
    "    accuracies.append(metrics.accuracy_score(model.predict(test), y_test))"
   ]
  },
  {
   "cell_type": "code",
   "execution_count": 23,
   "metadata": {},
   "outputs": [
    {
     "data": {
      "text/plain": [
       "[0.5007, 0.8634, 0.8813, 0.7922, 0.8829]"
      ]
     },
     "execution_count": 23,
     "metadata": {},
     "output_type": "execute_result"
    }
   ],
   "source": [
    "accuracies"
   ]
  },
  {
   "cell_type": "code",
   "execution_count": 34,
   "metadata": {},
   "outputs": [
    {
     "data": {
      "image/png": "[encoded data removed]",
      "text/plain": [
       "<matplotlib.figure.Figure at 0x7fdb6fe95940>"
      ]
     },
     "metadata": {},
     "output_type": "display_data"
    }
   ],
   "source": [
    "x = projection_sizes\n",
    "plt.figure(figsize=(10,5))\n",
    "plt.xlim([20,784])\n",
    "y1 = [baseline_accuracy]*len(x)\n",
    "y2 = accuracies\n",
    "plt.plot(x,y1, 'b-', label=\"without RP\")\n",
    "plt.plot(x, y2, 'k', label=\"with RP\")\n",
    "plt.legend()\n",
    "plt.grid(True)\n",
    "plt.xlabel('projection_size')\n",
    "plt.ylabel('Accuracy')\n",
    "plt.title('Accuracy with VS without RP', color = 'red', fontsize=14)\n",
    "plt.show()"
   ]
  },
  {
   "cell_type": "code",
   "execution_count": null,
   "metadata": {
    "collapsed": true
   },
   "outputs": [],
   "source": []
  }
 ],
 "metadata": {
  "kernelspec": {
   "display_name": "Python 3",
   "language": "python",
   "name": "python3"
  },
  "language_info": {
   "codemirror_mode": {
    "name": "ipython",
    "version": 3
   },
   "file_extension": ".py",
   "mimetype": "text/x-python",
   "name": "python",
   "nbconvert_exporter": "python",
   "pygments_lexer": "ipython3",
   "version": "3.6.2"
  }
 },
 "nbformat": 4,
 "nbformat_minor": 2
}
